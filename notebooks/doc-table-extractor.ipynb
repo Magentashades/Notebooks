{
 "cells": [
  {
   "cell_type": "code",
   "execution_count": null,
   "id": "979d64a3-c535-4436-a788-a7ba6343df78",
   "metadata": {
    "editable": true,
    "slideshow": {
     "slide_type": ""
    },
    "tags": []
   },
   "outputs": [],
   "source": [
    "# Vibe coded with ChatGPT 4.1\n",
    "# https://chatgpt.com/share/6850e4a7-4568-8009-a058-fa48eebdaa19\n",
    "# README mostly built with Cursor using Claude 4\n",
    "#\n",
    "\n",
    "import sys\n",
    "!{sys.executable} -m pip install python-docx\n",
    "\n",
    "import pandas as pd\n",
    "import docx\n",
    "import os\n",
    "import re"
   ]
  },
  {
   "cell_type": "code",
   "execution_count": null,
   "id": "9651a3fe-bc27-43c1-a98a-8dd84ed6ee87",
   "metadata": {},
   "outputs": [],
   "source": [
    "docx_folder = './data/reflection_docs/'\n",
    "\n",
    "\n",
    "#### Uncomment appropriate header, keep it simple\n",
    "\n",
    "# row_header = 'What did I learn?'\n",
    "# row_header = 'How, specifically, did I learn it?'\n",
    "row_header = 'What goals might I set in accordance with what I have learned in order to improve myself and/or the quality of my learning and/or the quality of my future?'"
   ]
  },
  {
   "cell_type": "code",
   "execution_count": null,
   "id": "51a6a725-ab27-4ec3-9775-6eb86b8109b0",
   "metadata": {},
   "outputs": [],
   "source": [
    "def extract_table_from_docx(filepath, key_row_name):\n",
    "    doc = docx.Document(filepath)\n",
    "    for table in doc.tables:\n",
    "        # Assume the first row is the header\n",
    "        for row in table.rows:\n",
    "            if key_row_name in row.cells[0].text:\n",
    "                # Found the target table\n",
    "                # Optionally, process the rest of the table here\n",
    "                return table\n",
    "    return None"
   ]
  },
  {
   "cell_type": "code",
   "execution_count": null,
   "id": "517ac7fb-b1a7-4d7e-8c61-cb9b1a6cd535",
   "metadata": {},
   "outputs": [],
   "source": [
    "def split_answer(answer):\n",
    "    \"\"\"\n",
    "    Split the answer into individual response lines, using:\n",
    "    - newline (\\n)\n",
    "    - bullet (•)\n",
    "    - hyphen (-) only at the start of a line or after whitespace (not mid-word)\n",
    "    \"\"\"\n",
    "    # Matches newline, bullet, or hyphen at start or after whitespace\n",
    "    pattern = r'(?:^|\\s)-|[\\n•]'\n",
    "    parts = re.split(pattern, answer)\n",
    "    return [p.strip() for p in parts if p.strip()]"
   ]
  },
  {
   "cell_type": "code",
   "execution_count": null,
   "id": "7bc480f3-75c4-4556-a53c-e2d15779e7ea",
   "metadata": {},
   "outputs": [],
   "source": [
    "def parse_answers(table, student_id, question_header):\n",
    "    \"\"\"\n",
    "    Extracts responses for a specific question from the given table for one student.\n",
    "    - Only the row matching question_header is processed.\n",
    "    - Returns a list of dicts with Student ID, Question, and Response.\n",
    "    \"\"\"\n",
    "    data = []\n",
    "    # Loop over rows (skip header row if present)\n",
    "    for row in table.rows[1:]:\n",
    "        question = row.cells[0].text.strip()\n",
    "        if question.lower() == question_header.lower():\n",
    "            answer = row.cells[1].text.strip()\n",
    "            if answer:\n",
    "                # If answer uses bullet, newline, or list-formatting, split accordingly\n",
    "                if re.search(r'(?:^|\\s)-|[\\n•]', answer):\n",
    "                    lines = split_answer(answer)\n",
    "                else:\n",
    "                    # Otherwise, split on periods (sentence boundaries)\n",
    "                    lines = [s.strip() for s in answer.split('.') if s.strip()]\n",
    "                for line in lines:\n",
    "                    if line:\n",
    "                        data.append({\n",
    "                            'Student ID': student_id,\n",
    "                            'Question': question_header,\n",
    "                            'Response': line\n",
    "                        })\n",
    "            break  # Stop after the first matching question\n",
    "    return data"
   ]
  },
  {
   "cell_type": "code",
   "execution_count": null,
   "id": "21cdff5c-9e1a-4d74-a27b-b9e5db5b8f92",
   "metadata": {},
   "outputs": [],
   "source": [
    "all_data = []\n",
    "for filename in os.listdir(docx_folder):\n",
    "    if filename.endswith('.docx'):\n",
    "        # Assumes filename format: 'Copy of P1.docx'\n",
    "        student_id = filename.replace('Copy of ', '').replace('.docx', '')\n",
    "        filepath = os.path.join(docx_folder, filename)\n",
    "        table = extract_table_from_docx(filepath, row_header)\n",
    "        if table:\n",
    "            # Use the actual question from header row or hardcode if fixed\n",
    "            all_data.extend(parse_answers(table, student_id, row_header))\n",
    "\n",
    "df = pd.DataFrame(all_data)"
   ]
  },
  {
   "cell_type": "code",
   "execution_count": null,
   "id": "2fa0c7eb-2b88-43c5-b328-8668e3d394a3",
   "metadata": {},
   "outputs": [],
   "source": [
    "pd.set_option('display.max_colwidth', None)\n",
    "\n",
    "print(df)"
   ]
  },
  {
   "cell_type": "code",
   "execution_count": null,
   "id": "bb93730c-5321-4449-a08c-2ded69a38c8e",
   "metadata": {},
   "outputs": [],
   "source": [
    "def header_to_filename(header, maxlen=20, dir='./outputs'):\n",
    "    # Remove non-word characters (punctuation), except spaces\n",
    "    s = re.sub(r'[^\\w\\s]', '', header)\n",
    "    # Replace spaces with underscores\n",
    "    s = s.replace(' ', '_')\n",
    "    # Limit to maxlen characters\n",
    "    s = s[:maxlen]\n",
    "    # Optionally: lowercase for consistency\n",
    "    # s = s.lower()\n",
    "    # Strip trailing underscores if truncation lands on one\n",
    "    s = s.rstrip('_')\n",
    "    # Add .csv\n",
    "    filename = f\"{s}.csv\"\n",
    "    # Prepend directory\n",
    "    return os.path.join(dir, filename)\n",
    "\n",
    "# Example usage:\n",
    "csv_filename = header_to_filename(row_header)\n",
    "# Make sure the output directory exists!\n",
    "os.makedirs(os.path.dirname(csv_filename), exist_ok=True)\n",
    "df.to_csv(csv_filename, index=False)"
   ]
  },
  {
   "cell_type": "code",
   "execution_count": null,
   "id": "22765493-01a9-4e20-b367-ecdbc65ad30b",
   "metadata": {},
   "outputs": [],
   "source": []
  }
 ],
 "metadata": {
  "kernelspec": {
   "display_name": "Python 3 (ipykernel)",
   "language": "python",
   "name": "python3"
  },
  "language_info": {
   "codemirror_mode": {
    "name": "ipython",
    "version": 3
   },
   "file_extension": ".py",
   "mimetype": "text/x-python",
   "name": "python",
   "nbconvert_exporter": "python",
   "pygments_lexer": "ipython3",
   "version": "3.12.10"
  }
 },
 "nbformat": 4,
 "nbformat_minor": 5
}
